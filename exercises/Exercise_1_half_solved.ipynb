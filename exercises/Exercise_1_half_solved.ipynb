{
 "cells": [
  {
   "cell_type": "markdown",
   "metadata": {
    "id": "FeCEKPfSUzR_"
   },
   "source": [
    "# The (extended) pairing Hamiltonian\n",
    "\n",
    "## This version has been solved up to Problem 5. Please skip to that part of the notebook, executing all the code before it without modifying anything."
   ]
  },
  {
   "cell_type": "code",
   "execution_count": null,
   "metadata": {
    "id": "x1FnZF6yUsjN"
   },
   "outputs": [],
   "source": [
    "import numpy as np\n",
    "import scipy\n",
    "import matplotlib.pyplot as plt"
   ]
  },
  {
   "cell_type": "markdown",
   "metadata": {
    "id": "iiLoEc-i5Sc-"
   },
   "source": [
    "\n",
    "The pairing Hamiltonian is a schematic, but powerful Hamiltonian used to explore the emergence of superfluidity. It is a standard benchmark problem for quantum many-body approaches as it has been exactly solved by Richardson [[Richardson, Phys. Lett. 3, 227 (1963)](https://doi.org/10.1016/0031-9163(63)90259-2)] and poses significant challenges for many methods due to a phase transition to a superfluid phase for sufficiently attractive pairing interaction. It is also simple enough to be an instructive way to learn and explore quantum many-body methods.\n",
    "\n",
    "The pairing Hamiltonian describes spin-1/2 fermions occupying discrete evenly-space levels. The Hamiltonian to describe this is:\n",
    "\n",
    "$$\n",
    "H_1 = \\Delta ϵ \\sum_{p} \\sum_{\\sigma} (p - 1) a^{\\dagger}_{p\\sigma} a_{p\\sigma}.\n",
    "$$\n",
    "\n",
    "$\\Delta ϵ > 0$ is the spacing between levels. $p$ is the quantum number for the levels from $p = 1$, ..., $p = p_\\mathrm{max}$. $\\sigma$ indicates whether a fermion is spin up ($\\sigma = +1$) or spin down ($\\sigma = -1$).\n",
    "\n",
    "### Problem 1: Single-particle basis\n",
    "\n",
    "Write a function to build a list of all possible states $|p \\sigma\\rangle$ a single fermion can be for a given $p_\\mathrm{max}$."
   ]
  },
  {
   "cell_type": "code",
   "execution_count": null,
   "metadata": {
    "id": "jL3ZJuFj4_VW"
   },
   "outputs": [],
   "source": [
    "def make_list_of_single_particle_states(pmax):\n",
    "    '''\n",
    "    Creates a basis of single-particle states for the pairing Hamiltonian given a number of levels pmax.\n",
    "\n",
    "    Args:\n",
    "        pmax: integer >= 1 indicating the number of levels\n",
    "\n",
    "    Returns:\n",
    "        List of states (p, sigma) in the single-particle basis.\n",
    "    '''\n",
    "    \n",
    "    states = []\n",
    "\n",
    "    # My solution\n",
    "    for p in range(1, pmax + 1):\n",
    "        for sigma in [-1, 1]:\n",
    "            states.append((p, sigma))\n",
    "\n",
    "    return states"
   ]
  },
  {
   "cell_type": "markdown",
   "metadata": {
    "id": "vM5anwUrDUc6"
   },
   "source": [
    "This is your single-particle basis. All remaining operators and states can be constructed from this single-particle basis.\n",
    "\n",
    "> Note: The order of states in your basis is arbitrary. The result of your calculations will not matter how you order your basis *as long as you do everything consistently*. However, you can make life easier for yourself by choosing a well motivated ordering (for example, sorting states from lowest to highest energy)."
   ]
  },
  {
   "cell_type": "markdown",
   "metadata": {},
   "source": [
    "### Problem 2: 1-body Hamiltonian\n",
    "\n",
    "Write a function to construct the matrix elements of the 1-body Hamiltonian above, $H_1$:\n",
    "\n",
    "$$\n",
    "H_{ij} = \\langle i = (p \\sigma) | H_1 | j = (p' \\sigma') \\rangle .\n",
    "$$\n",
    "\n",
    "We use the useful abbreviated notation $i = (p \\sigma)$ so that we can talk about a generic state $|i\\rangle$ without worrying about its quantum numbers."
   ]
  },
  {
   "cell_type": "code",
   "execution_count": null,
   "metadata": {
    "id": "RSRay-WLUKZ_"
   },
   "outputs": [],
   "source": [
    "def make_1body_hamiltonian(basis, delta_eps):\n",
    "    '''\n",
    "    Builds 1-body Hamiltonian for pairing Hamiltonian given a basis and an input coupling delta_eps.\n",
    "\n",
    "    Args:\n",
    "        basis: List of single-particle states (p, sigma).\n",
    "        delta_eps: The one-body coupling for the pairing Hamiltonian.\n",
    "\n",
    "    Returns:\n",
    "        1-body Hamiltonian as matrix.\n",
    "    '''\n",
    "    h1 = np.zeros((len(basis), len(basis)))\n",
    "\n",
    "    # My solution\n",
    "    dim = len(basis)\n",
    "    for i in range(dim):\n",
    "        for j in range(dim):\n",
    "            # (i == j) -> (p_i == p_j) and (sigma_i == sigma_j)\n",
    "            if i == j:\n",
    "                p, _ = basis[i]\n",
    "                h1[i,j] = delta_eps * (p - 1)\n",
    "    \n",
    "    return h1"
   ]
  },
  {
   "cell_type": "markdown",
   "metadata": {
    "id": "irdDHTwVALt7"
   },
   "source": [
    "It is generally useful to check that certain symmetry properties of your Hamiltonian are fulfilled. In this case, we can check Hermiticity.\n",
    "\n",
    "Write a function to check that your 1-body operator is Hermitian."
   ]
  },
  {
   "cell_type": "markdown",
   "metadata": {
    "id": "ht7EycgB-Wo_"
   },
   "source": [
    "### Problem 3: Computing state energies\n",
    "\n",
    "Within a given single-particle basis, one can easily represent a Slater determinant state\n",
    "\n",
    "$$\n",
    "|\\Phi\\rangle = a^\\dagger_{i_1} \\dots a^\\dagger_{i_A} |0\\rangle\n",
    "$$\n",
    "\n",
    "using the occupation numbers $n_i$ for the states $| i \\rangle$:\n",
    "\n",
    "$$\n",
    "n_i = \\begin{cases}\n",
    "1 & \\mathrm{if}\\:i\\in {i_1, \\dots, i_A}, \\\\\n",
    "0 & \\mathrm{otherwise}.\n",
    "\\end{cases}\n",
    "$$\n",
    "\n",
    "Write a function to generate occupation numbers from a list of occupied states [($p_1$, $\\sigma_1$), ..., ($p_A$, $\\sigma_A$)]."
   ]
  },
  {
   "cell_type": "code",
   "execution_count": null,
   "metadata": {
    "id": "avRfpnwB-glz"
   },
   "outputs": [],
   "source": [
    "def create_state_occupation_numbers(basis, occupied_states):\n",
    "    '''\n",
    "    Generates list of occupation numbers for basis based on given occupied states.\n",
    "\n",
    "    Args:\n",
    "        basis: List of single-particle states (p, sigma).\n",
    "        occupied_states: List of occupied single-particle states (p, sigma).\n",
    "\n",
    "    Returns:\n",
    "        occupation_numbers: List of integers, where occupation_numbers[i] = 1 if basis[i] is in occupied_states.\n",
    "    '''\n",
    "    assert len(occupied_states) <= len(basis)\n",
    "    occupation_numbers = [0] * len(basis)\n",
    "    \n",
    "    # My solution\n",
    "    for i, state in enumerate(basis):\n",
    "        if state in occupied_states:\n",
    "            occupation_numbers[i] = 1\n",
    "    \n",
    "    return occupation_numbers"
   ]
  },
  {
   "cell_type": "markdown",
   "metadata": {
    "id": "aymLpl-3_ZR2"
   },
   "source": [
    "### Problem 4: Two-body interactions\n",
    "\n",
    "So far our 1-body Hamiltonian has only provided us a set of discrete levels, but no actual interactions to explore interesting physics. For this reason, the lowest energy state is easy to construct and solves the problem exactly. Adding two-body interactions allows us to bring in nontrivial physics, which will modify the exact ground-state of the system.\n",
    "\n",
    "The two-body interaction for the pairing Hamiltonian is\n",
    "\n",
    "$$\n",
    "\\begin{aligned}\n",
    "H_2 &= -g \\sum_{p \\sigma} \\sum_{q \\sigma'} a^\\dagger_{p \\sigma} a^\\dagger_{p \\bar{\\sigma}} a_{q \\bar{\\sigma}'} a_{q \\sigma'} \\\\\n",
    "&= \\frac{1}{4} \\sum_{ijkl} H_{ijkl} a^\\dagger_{i} a^\\dagger_{j} a_{l} a_{k}\n",
    "\\end{aligned}\n",
    "$$\n",
    "where $\\bar{\\sigma} = -\\sigma$ (the opposite spin). This interaction is between pairs in the same level, which gives this Hamiltonian its name, the \"pairing\" Hamiltonian.\n",
    "\n",
    "A function that generates the two-body Hamiltonian matrix elements\n",
    "$$\n",
    "H_{ijkl} = \\langle i = (p_i \\sigma_i), j = (p_j \\sigma_j) | H_2 | k = (p_k \\sigma_k), l = (p_l \\sigma_l) \\rangle\n",
    "$$\n",
    "for this Hamiltonian is provided below."
   ]
  },
  {
   "cell_type": "code",
   "execution_count": null,
   "metadata": {
    "id": "NXYdYZEE_njK"
   },
   "outputs": [],
   "source": [
    "def make_2body_hamiltonian_pairing_interaction(basis, g):\n",
    "    '''\n",
    "    Builds 2-body Hamiltonian matrix elements for a given basis and coupling g.\n",
    "\n",
    "    Args:\n",
    "        basis: List of single-particle states (p, sigma).\n",
    "        g: 2-body pairing coupling (g > 0 is attractive).\n",
    "\n",
    "    Returns:\n",
    "        h2: 2-body Hamiltonian matrix elements H_{ijkl} as a 4-dimensional array.\n",
    "    '''\n",
    "    h2 = np.zeros((len(basis), len(basis), len(basis), len(basis)))\n",
    "\n",
    "    for i, state_i in enumerate(basis):\n",
    "        p_i, sigma_i = state_i\n",
    "        for j, state_j in enumerate(basis):\n",
    "            p_j, sigma_j = state_j\n",
    "\n",
    "            # Can skip because of antisymmetry\n",
    "            if i == j:\n",
    "                continue\n",
    "            for k, state_k in enumerate(basis):\n",
    "                p_k, sigma_k = state_k\n",
    "                for l, state_l in enumerate(basis):\n",
    "                    p_l, sigma_l = state_l\n",
    "\n",
    "                    if k == l:\n",
    "                        continue\n",
    "\n",
    "                    # Check that we have pairs in (i, j) and (k, l)\n",
    "                    if (\n",
    "                        p_i == p_j\n",
    "                        and sigma_i != sigma_j\n",
    "                        and p_k == p_l\n",
    "                        and sigma_k != sigma_l\n",
    "                    ):\n",
    "                        # This logic is needed for antisymmetry\n",
    "                        if sigma_i == sigma_k:\n",
    "                            h2[i, j, k, l] = -1 * g\n",
    "                        else:\n",
    "                            h2[i, j, k, l] = 1 * g                    \n",
    "\n",
    "    return h2"
   ]
  },
  {
   "cell_type": "markdown",
   "metadata": {},
   "source": [
    "It is very useful to check the symmetries of the Hamiltonian, Hermiticity and antisymmetry:\n",
    "\n",
    "$$\n",
    "\\begin{aligned}\n",
    "H_{ijkl} &= H_{klij}, \\\\\n",
    "H_{ijkl} &= -H_{jikl} = -H_{ijlk} = H_{jilk}.\n",
    "\\end{aligned}\n",
    "$$\n",
    "\n",
    "Write functions to check these properties."
   ]
  },
  {
   "cell_type": "code",
   "execution_count": null,
   "metadata": {
    "id": "mrvF8vzeBoog"
   },
   "outputs": [],
   "source": [
    "def eval_2body_hamiltonian_nonpairing_interaction_matrix_element(basis, i, j, k, l, g_hop):\n",
    "    '''\n",
    "    Evaluates single matrix element H'_{ijkl}.\n",
    "    '''\n",
    "    pi, sigi = basis[i]\n",
    "    pj, sigj = basis[j]\n",
    "    pk, sigk = basis[k]\n",
    "    pl, sigl = basis[l]\n",
    "\n",
    "    if abs(pi - pj) != 1:\n",
    "        return 0.0\n",
    "    if abs(pk - pl) != 1:\n",
    "        return 0.0\n",
    "    if sigi != sigj:\n",
    "        return 0.0\n",
    "    if sigk != sigl:\n",
    "        return 0.0\n",
    "\n",
    "    if sigi == sigk:\n",
    "        return g_hop\n",
    "    else:\n",
    "        return -1 * g_hop\n",
    "\n",
    "\n",
    "def make_2body_hamiltonian_nonpairing_interaction(basis, g_hop):\n",
    "    '''\n",
    "    Builds 2-body Hamiltonian matrix elements for the added interaction for a given basis and coupling g_hop.\n",
    "\n",
    "    Args:\n",
    "        basis: List of single-particle states (p, sigma).\n",
    "        g_hop: 2-body nearest neighbor coupling.\n",
    "\n",
    "    Returns:\n",
    "        h2: 2-body Hamiltonian matrix elements H_{ijkl} as a 4-dimensional array.\n",
    "    '''\n",
    "    dim = len(basis)\n",
    "    h2 = np.zeros((dim, dim, dim, dim))\n",
    "\n",
    "    for i in range(dim):\n",
    "        for j in range(dim):\n",
    "            for k in range(dim):\n",
    "                for l in range(dim):\n",
    "                    h2[i, j, k, l] = eval_2body_hamiltonian_nonpairing_interaction_matrix_element(basis, i, j, k, l, g_hop)\n",
    "\n",
    "    return h2"
   ]
  },
  {
   "cell_type": "markdown",
   "metadata": {},
   "source": [
    "### Problem 5: Solving the Hartree-Fock equations\n",
    "\n",
    "The following function will provide you with the 1- and 2-body Hamiltonian matrix elements and the occupations for our problem as a function of the number of levels $p_\\mathrm{max}$, the couplings $\\Delta \\epsilon$ (1-body Hamiltonian), $g$ (2-body pairing term), $g_\\mathrm{hop}$ (2-body nonpairing term), and the number of occupied levels $N_\\mathrm{occ}$ (total number of fermions is $2 N_\\mathrm{occ}$). Use it to set up the following problem. A reasonable set of defaults is:\n",
    "\n",
    "- $p_\\mathrm{max} = 4$,\n",
    "- $\\Delta \\epsilon = 1$,\n",
    "- $g = 2$,\n",
    "- $g_\\mathrm{hop} = -0.5$,\n",
    "- $N_\\mathrm{occ} = 2$."
   ]
  },
  {
   "cell_type": "code",
   "execution_count": null,
   "metadata": {},
   "outputs": [],
   "source": [
    "def set_up_problem(pmax, delta_eps, g, g_hop, n_occ):\n",
    "    '''\n",
    "    Constructs everything necessary to solve HF for the schematic Hamiltonian.\n",
    "\n",
    "    Args:\n",
    "        pmax: Number of levels in the system.\n",
    "        delta_eps: 1-body coupling defining the level spacing.\n",
    "        g: 2-body coupling for the pairing interaction.\n",
    "        g_hop: 2-body coupling for the nearest neighbor interaction.\n",
    "        n_occ: Number of occupied levels.\n",
    "\n",
    "    Returns:\n",
    "        h1: 1-body Hamiltonian matrix elements (dimension = dim x dim).\n",
    "        h2: 2-body Hamiltonian matrix elements with both interactions (dimension = dim x dim x dim x dim).\n",
    "        occs: Array of occupation numbers (dimension = dim).\n",
    "    '''\n",
    "    assert n_occ <= pmax\n",
    "    occupied = [(p, sigma) for sigma in [-1, 1] for p in range(1, n_occ + 1)]\n",
    "    basis = make_list_of_single_particle_states(pmax)\n",
    "    h1 = make_1body_hamiltonian(basis, delta_eps)\n",
    "    h2 = make_2body_hamiltonian_pairing_interaction(basis, g)\n",
    "    h2p = make_2body_hamiltonian_nonpairing_interaction(basis, g_hop)\n",
    "    occs = create_state_occupation_numbers(basis, occupied)\n",
    "\n",
    "    return h1, h2 + h2p, occs"
   ]
  },
  {
   "cell_type": "code",
   "execution_count": null,
   "metadata": {},
   "outputs": [],
   "source": [
    "# Example usage:\n",
    "h1, h2, occupation_numbers = set_up_problem(4, 1.0, 2.0, -0.5, 2)"
   ]
  },
  {
   "cell_type": "markdown",
   "metadata": {
    "id": "8x7sqEm8A_5Y"
   },
   "source": [
    "We will now work on solving the Hartree-Fock (HF) equations for this problem. The central object we are interested in is the Fock matrix:\n",
    "\n",
    "$$\n",
    "F_{ij} = H_{ij} + \\sum_{kl} \\rho_{kl} H_{ikjl}.\n",
    "$$\n",
    "\n",
    "As you can see, this requires the 1-body density matrix for the new basis $| \\bar{i} \\rangle = \\sum_{i} C_{\\bar{i}i} | i \\rangle$. Our starting point will always be $| \\bar{i} \\rangle = | i \\rangle$. Still, we need to construct the 1-body density matrix, which we can do according to\n",
    "$$\n",
    "\\rho_{ij} = \\sum_{\\bar{i}} C_{\\bar{i}i} n_{\\bar{i}} C_{\\bar{i}j}^{*},\n",
    "$$\n",
    "where $n_\\bar{i} = n_i$.\n",
    "\n",
    "Write a function to compute the 1-body density matrix given a set of coefficients $C_{\\bar{i}i}$ and occupation numbers $n_\\bar{i}$."
   ]
  },
  {
   "cell_type": "code",
   "execution_count": null,
   "metadata": {
    "id": "6xUQ5yZzC8vv"
   },
   "outputs": [],
   "source": [
    "def construct_new_density(coeffs, occupation_numbers):\n",
    "    '''\n",
    "    Constructs 1-body density matrix.\n",
    "\n",
    "    Args:\n",
    "        coeffs: Matrix of coefficients from the starting basis to the new basis.\n",
    "        occupation_numbers: List of occupation numbers for single-particle states in the new basis.\n",
    "        \n",
    "    Returns:\n",
    "        density: 1-body density matrix representing the many-body state in the starting basis.\n",
    "    '''\n",
    "    dim = len(occupation_numbers)\n",
    "    assert coeffs.shape == (dim, dim)\n",
    "    density = np.zeros((dim, dim))\n",
    "\n",
    "    # TODO: Your code here\n",
    "\n",
    "    return density"
   ]
  },
  {
   "cell_type": "code",
   "execution_count": null,
   "metadata": {},
   "outputs": [],
   "source": [
    "# Code to check density matrix here."
   ]
  },
  {
   "cell_type": "markdown",
   "metadata": {},
   "source": [
    "Now write a function to compute the Fock matrix $F$ based on your Hamiltonian (with 1- and 2-body parts) and a density. For now this density is just the density of the lowest-energy state you found above. For this state, $C_{\\bar{i}{i}}$ is just the identity matrix."
   ]
  },
  {
   "cell_type": "code",
   "execution_count": null,
   "metadata": {
    "id": "CmQ45nD6BHuI"
   },
   "outputs": [],
   "source": [
    "def compute_fock_matrix_from_density(h1, h2, density):\n",
    "    '''\n",
    "    Computes Fock matrix from a given density.\n",
    "\n",
    "    Args:\n",
    "        h1: 1-body Hamiltonian matrix elements.\n",
    "        h2: 2-body Hamiltonian matrix elements.\n",
    "        density: 1-body density matrix.\n",
    "\n",
    "    Returns:\n",
    "        f: Fock matrix.\n",
    "    '''\n",
    "    f = np.zeros_like(h1)\n",
    "\n",
    "    # TODO: Your code here\n",
    "\n",
    "    return f"
   ]
  },
  {
   "cell_type": "code",
   "execution_count": null,
   "metadata": {},
   "outputs": [],
   "source": [
    "# TODO: Your code to show that the Fock matrix for the Hamiltonian is not diagonal.\n",
    "# Hint: C_ibar,i is the identity."
   ]
  },
  {
   "cell_type": "markdown",
   "metadata": {},
   "source": [
    "Diagonalizing the Fock matrix will give you the new transformation coefficients for an improved basis.\n",
    "\n",
    "Write a function to diagonalize your Fock matrix (Hint: Refer to [`scipy.linalg.eigh`](https://docs.scipy.org/doc/scipy-1.15.0/reference/generated/scipy.linalg.eigh.html) to do this)."
   ]
  },
  {
   "cell_type": "code",
   "execution_count": null,
   "metadata": {
    "id": "jyEVPJ1oChMn"
   },
   "outputs": [],
   "source": [
    "def diagonalize_fock_matrix(f):\n",
    "    '''\n",
    "    Diagonalizes the Fock matrix and returns the transformation coefficients C_{ibar, i}.$\n",
    "\n",
    "    Args:\n",
    "        f: Fock matrix.\n",
    "\n",
    "    Returns:\n",
    "        coeffs: Matrix of expansion coefficients of new basis in terms of starting basis. Specifically,\n",
    "            coeffs[ibar, :] should be the full eigenvector corresponding to the new state |ibar> = sum_i C_{ibar, i} |i>.\n",
    "    '''\n",
    "    coeffs = np.zeros_like(f)\n",
    "\n",
    "    # TODO: Your code here (hint, look at scipy.linalg.eigh)\n",
    "\n",
    "    return coeffs"
   ]
  },
  {
   "cell_type": "markdown",
   "metadata": {
    "id": "XiuIOaoWDUBM"
   },
   "source": [
    "The coefficients you get from this diagonalization can be used to construct a new density matrix. We now want to be sure that this basis is actually better: \"better\" in the sense that the energy is lower than before. For that we need to evaluate the energy expectation value using the density, not the occupation numbers:\n",
    "\n",
    "$$\n",
    "E = \\sum_{ij} \\rho_{ij} H_{ij} + \\frac{1}{2} \\sum_{ijkl} \\rho_{ij} \\rho_{kl} H_{ikjl}.\n",
    "$$\n",
    "\n",
    "Write a function to evaluate the energy using the density matrix."
   ]
  },
  {
   "cell_type": "code",
   "execution_count": null,
   "metadata": {
    "id": "B1lEWk04Djqu"
   },
   "outputs": [],
   "source": [
    "def evaluate_1and2body_energy_from_density(h1, h2, density):\n",
    "    '''\n",
    "    Evaluates energy expectation value of state.\n",
    "\n",
    "    Args:\n",
    "        h1: 1-body matrix elements of Hamiltonian.\n",
    "        h2: 2-body matrix elements of Hamiltonian.\n",
    "        density: Density matrix of state.\n",
    "\n",
    "    Returns:\n",
    "        energy: Energy expectation value of state.\n",
    "    '''\n",
    "    energy = 0.0\n",
    "\n",
    "    # TODO: Your code here\n",
    "\n",
    "    return energy"
   ]
  },
  {
   "cell_type": "markdown",
   "metadata": {},
   "source": [
    "Briefly show that the density from the new basis you get from diagonalizing the Fock matrix has a lower energy than the starting density."
   ]
  },
  {
   "cell_type": "code",
   "execution_count": null,
   "metadata": {},
   "outputs": [],
   "source": [
    "# TODO: Your code here.\n",
    "# Compare the energy from your first density with your energy from your second density."
   ]
  },
  {
   "cell_type": "markdown",
   "metadata": {
    "id": "cK26fVI9Dwe8"
   },
   "source": [
    "To solve the Hartree-Fock equations, we do these steps *iteratively* ($n$ is the iteration number):\n",
    "\n",
    "1. Construct density matrix $\\rho^{(n)}$ from coefficients $C^{(n)}_{\\bar{i}i}$.\n",
    "2. Evaluate energy expectation value $E^{(n)}$.\n",
    "3. Build Fock operator $F^{(n)}$.\n",
    "4. Diagonalize Fock operator to get new coefficients $C^{(n + 1)}_{\\bar{i}i}$.\n",
    "\n",
    "This iterative procedure terminates when our final basis is no longer improving in each iteration, so $E^{(n)} \\approx E^{(n - 1)}$.\n",
    "\n",
    "Write a function to put all of these ingredients together to solve Hartree-Fock."
   ]
  },
  {
   "cell_type": "code",
   "execution_count": null,
   "metadata": {
    "id": "0QTaz8XKD6UI"
   },
   "outputs": [],
   "source": [
    "def solve_hartree_fock_iteratively(h1, h2, occupation_numbers):\n",
    "    '''\n",
    "    Solve the Hartree-Fock equations for a given Hamiltonian and occupation numbers.\n",
    "\n",
    "    Args:\n",
    "        h1: 1-body matrix elements of Hamiltonian.\n",
    "        h2: 2-body matrix elements of Hamiltonian.\n",
    "        occupation_numbers: List of occupation numbers.\n",
    "\n",
    "    Returns:\n",
    "        e: HF energy.\n",
    "        density: HF density matrix.\n",
    "        coeffs: HF basis coefficients.\n",
    "        n_iters: Number of iterations required to reach convergence.\n",
    "    '''\n",
    "    dim = len(occupation_numbers)\n",
    "    assert h1.shape == (dim, dim)\n",
    "    assert h2.shape == (dim, dim, dim, dim)\n",
    "\n",
    "    e = 0.0\n",
    "    density = np.zeros((dim, dim))\n",
    "    coeffs = np.zeros((dim, dim))\n",
    "    n_iters = 0\n",
    "\n",
    "    # TODO: Your code here\n",
    "\n",
    "    return e, density, coeffs, n_iters"
   ]
  },
  {
   "cell_type": "code",
   "execution_count": null,
   "metadata": {},
   "outputs": [],
   "source": [
    "# Code to check HF result for specific values of couplings."
   ]
  },
  {
   "cell_type": "markdown",
   "metadata": {},
   "source": [
    "Congratulations, you have solved Hartree-Fock!\n",
    "\n",
    "Explore how the energy depends on $g / \\Delta \\epsilon$ and $g_\\mathrm{hop} / \\Delta \\epsilon$. How does the number of iterations depend on $g$, $g_\\mathrm{hop}$? Do you have problems with convergence in any cases?"
   ]
  }
 ],
 "metadata": {
  "colab": {
   "provenance": [],
   "toc_visible": true
  },
  "kernelspec": {
   "display_name": "Python 3 (ipykernel)",
   "language": "python",
   "name": "python3"
  },
  "language_info": {
   "codemirror_mode": {
    "name": "ipython",
    "version": 3
   },
   "file_extension": ".py",
   "mimetype": "text/x-python",
   "name": "python",
   "nbconvert_exporter": "python",
   "pygments_lexer": "ipython3",
   "version": "3.12.4"
  }
 },
 "nbformat": 4,
 "nbformat_minor": 4
}
