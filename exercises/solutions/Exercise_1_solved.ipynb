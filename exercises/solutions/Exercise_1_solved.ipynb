{
 "cells": [
  {
   "cell_type": "markdown",
   "metadata": {
    "id": "FeCEKPfSUzR_"
   },
   "source": [
    "# The (extended) pairing Hamiltonian"
   ]
  },
  {
   "cell_type": "code",
   "execution_count": null,
   "metadata": {
    "id": "x1FnZF6yUsjN"
   },
   "outputs": [],
   "source": [
    "import numpy as np\n",
    "import scipy\n",
    "import matplotlib.pyplot as plt"
   ]
  },
  {
   "cell_type": "markdown",
   "metadata": {
    "id": "iiLoEc-i5Sc-"
   },
   "source": [
    "\n",
    "The pairing Hamiltonian is a schematic, but powerful Hamiltonian used to explore the emergence of superfluidity. It is a standard benchmark problem for quantum many-body approaches as it has been exactly solved by Richardson [[Richardson, Phys. Lett. 3, 227 (1963)](https://doi.org/10.1016/0031-9163(63)90259-2)] and poses significant challenges for many methods due to a phase transition to a superfluid phase for sufficiently attractive pairing interaction. It is also simple enough to be an instructive way to learn and explore quantum many-body methods.\n",
    "\n",
    "The pairing Hamiltonian describes spin-1/2 fermions occupying discrete evenly-space levels. The Hamiltonian to describe this is:\n",
    "\n",
    "$$\n",
    "H_1 = \\Delta ϵ \\sum_{p} \\sum_{\\sigma} (p - 1) a^{\\dagger}_{p\\sigma} a_{p\\sigma}.\n",
    "$$\n",
    "\n",
    "$\\Delta ϵ > 0$ is the spacing between levels. $p$ is the quantum number for the levels from $p = 1$, ..., $p = p_\\mathrm{max}$. $\\sigma$ indicates whether a fermion is spin up ($\\sigma = +1$) or spin down ($\\sigma = -1$).\n",
    "\n",
    "### Problem 1: Single-particle basis\n",
    "\n",
    "Write a function to build a list of all possible states $|p \\sigma\\rangle$ a single fermion can be for a given $p_\\mathrm{max}$."
   ]
  },
  {
   "cell_type": "code",
   "execution_count": null,
   "metadata": {
    "id": "jL3ZJuFj4_VW"
   },
   "outputs": [],
   "source": [
    "def make_list_of_single_particle_states(pmax):\n",
    "    '''\n",
    "    Creates a basis of single-particle states for the pairing Hamiltonian given a number of levels pmax.\n",
    "\n",
    "    Args:\n",
    "        pmax: integer >= 1 indicating the number of levels\n",
    "\n",
    "    Returns:\n",
    "        List of states (p, sigma) in the single-particle basis.\n",
    "    '''\n",
    "    \n",
    "    states = []\n",
    "\n",
    "    # My solution\n",
    "    for p in range(1, pmax + 1):\n",
    "        for sigma in [-1, 1]:\n",
    "            states.append((p, sigma))\n",
    "\n",
    "    return states"
   ]
  },
  {
   "cell_type": "code",
   "execution_count": null,
   "metadata": {
    "colab": {
     "base_uri": "https://localhost:8080/"
    },
    "id": "QFt_57o-XP54",
    "outputId": "d4618f24-53a1-4206-a30e-1c6b2f03abff"
   },
   "outputs": [],
   "source": [
    "# This is code to test your implementation. It is not comprehensive.\n",
    "for pmax in [2, 4, 8]:\n",
    "  assert len(make_list_of_single_particle_states(pmax)) == pmax * 2"
   ]
  },
  {
   "cell_type": "markdown",
   "metadata": {
    "id": "vM5anwUrDUc6"
   },
   "source": [
    "This is your single-particle basis. All remaining operators and states can be constructed from this single-particle basis.\n",
    "\n",
    "> Note: The order of states in your basis is arbitrary. The result of your calculations will not matter how you order your basis *as long as you do everything consistently*. However, you can make life easier for yourself by choosing a well motivated ordering (for example, sorting states from lowest to highest energy)."
   ]
  },
  {
   "cell_type": "markdown",
   "metadata": {},
   "source": [
    "### Problem 2: 1-body Hamiltonian\n",
    "\n",
    "Write a function to construct the matrix elements of the 1-body Hamiltonian above, $H_1$:\n",
    "\n",
    "$$\n",
    "H_{ij} = \\langle i = (p \\sigma) | H_1 | j = (p' \\sigma') \\rangle .\n",
    "$$\n",
    "\n",
    "We use the useful abbreviated notation $i = (p \\sigma)$ so that we can talk about a generic state $|i\\rangle$ without worrying about its quantum numbers."
   ]
  },
  {
   "cell_type": "code",
   "execution_count": null,
   "metadata": {
    "id": "RSRay-WLUKZ_"
   },
   "outputs": [],
   "source": [
    "def make_1body_hamiltonian(basis, delta_eps):\n",
    "    '''\n",
    "    Builds 1-body Hamiltonian for pairing Hamiltonian given a basis and an input coupling delta_eps.\n",
    "\n",
    "    Args:\n",
    "        basis: List of single-particle states (p, sigma).\n",
    "        delta_eps: The one-body coupling for the pairing Hamiltonian.\n",
    "\n",
    "    Returns:\n",
    "        1-body Hamiltonian as matrix.\n",
    "    '''\n",
    "    dim = len(basis)\n",
    "    h1 = np.zeros((dim, dim))\n",
    "\n",
    "    # My solution\n",
    "    for i in range(dim):\n",
    "        for j in range(dim):\n",
    "            # (i == j) -> (p_i == p_j) and (sigma_i == sigma_j)\n",
    "            if i == j:\n",
    "                p, _ = basis[i]\n",
    "                h1[i,j] = delta_eps * (p - 1)\n",
    "    \n",
    "    return h1"
   ]
  },
  {
   "cell_type": "code",
   "execution_count": null,
   "metadata": {
    "colab": {
     "base_uri": "https://localhost:8080/"
    },
    "id": "Wa6Lwv-iVPPW",
    "outputId": "c8fdc559-b344-44fd-de87-455e866553d7"
   },
   "outputs": [],
   "source": [
    "# This is code to test your implementation. It is not comprehensive.\n",
    "def norm(mat):\n",
    "    return np.sum(np.pow(np.abs(mat), 2))\n",
    "\n",
    "for pmax in [2, 4, 8]:\n",
    "    basis = make_list_of_single_particle_states(pmax)\n",
    "    for delta_eps in [1.0, 5.0]:\n",
    "        h1 = make_1body_hamiltonian(basis, delta_eps)\n",
    "        assert h1.shape == (len(basis), len(basis))\n",
    "        assert norm(h1 - np.diag(np.diag(h1))) < 1e-12\n",
    "        assert norm(h1) > 1e-12"
   ]
  },
  {
   "cell_type": "markdown",
   "metadata": {
    "id": "irdDHTwVALt7"
   },
   "source": [
    "It is generally useful to check that certain symmetry properties of your Hamiltonian are fulfilled. In this case, we can check Hermiticity.\n",
    "\n",
    "Write a function to check that your 1-body operator is Hermitian."
   ]
  },
  {
   "cell_type": "code",
   "execution_count": null,
   "metadata": {
    "id": "BrwBJ-qyAO1n"
   },
   "outputs": [],
   "source": [
    "def check_1body_operator_is_hermitian(h1):\n",
    "    '''\n",
    "    Checks that a 1-body operator is Hermitian based on its matrix elements.\n",
    "\n",
    "    Args:\n",
    "        h1: The 1-body matrix elements.\n",
    "\n",
    "    Returns:\n",
    "        bool: True if Hermitian, False otherwise.\n",
    "    '''\n",
    "    \n",
    "    # My solution\n",
    "    dim = len(h1)\n",
    "    for i in range(dim):\n",
    "        for j in range(dim):\n",
    "            if abs(h1[i, j] - h1[j, i]) > 1e-10:\n",
    "                return False\n",
    "    \n",
    "    return True"
   ]
  },
  {
   "cell_type": "code",
   "execution_count": null,
   "metadata": {},
   "outputs": [],
   "source": [
    "for pmax in [2, 4, 8]:\n",
    "    basis = make_list_of_single_particle_states(pmax)\n",
    "    for delta_eps in [1.0, 5.0]:\n",
    "        h1 = make_1body_hamiltonian(basis, delta_eps)\n",
    "        assert check_1body_operator_is_hermitian(h1)"
   ]
  },
  {
   "cell_type": "markdown",
   "metadata": {
    "id": "ht7EycgB-Wo_"
   },
   "source": [
    "### Problem 3: Computing state energies\n",
    "\n",
    "Within a given single-particle basis, one can easily represent a Slater determinant state\n",
    "\n",
    "$$\n",
    "|\\Phi\\rangle = a^\\dagger_{i_1} \\dots a^\\dagger_{i_A} |0\\rangle\n",
    "$$\n",
    "\n",
    "using the occupation numbers $n_i$ for the states $| i \\rangle$:\n",
    "\n",
    "$$\n",
    "n_i = \\begin{cases}\n",
    "1 & \\mathrm{if}\\:i\\in {i_1, \\dots, i_A}, \\\\\n",
    "0 & \\mathrm{otherwise}.\n",
    "\\end{cases}\n",
    "$$\n",
    "\n",
    "Write a function to generate occupation numbers from a list of occupied states [($p_1$, $\\sigma_1$), ..., ($p_A$, $\\sigma_A$)]."
   ]
  },
  {
   "cell_type": "code",
   "execution_count": null,
   "metadata": {
    "id": "avRfpnwB-glz"
   },
   "outputs": [],
   "source": [
    "def create_state_occupation_numbers(basis, occupied_states):\n",
    "    '''\n",
    "    Generates list of occupation numbers for basis based on given occupied states.\n",
    "\n",
    "    Args:\n",
    "        basis: List of single-particle states (p, sigma).\n",
    "        occupied_states: List of occupied single-particle states (p, sigma).\n",
    "\n",
    "    Returns:\n",
    "        occupation_numbers: List of integers, where occupation_numbers[i] = 1 if basis[i] is in occupied_states.\n",
    "    '''\n",
    "    assert len(occupied_states) <= len(basis)\n",
    "    occupation_numbers = [0] * len(basis)\n",
    "    \n",
    "    # My solution\n",
    "    for i, state in enumerate(basis):\n",
    "        if state in occupied_states:\n",
    "            occupation_numbers[i] = 1\n",
    "    \n",
    "    return occupation_numbers"
   ]
  },
  {
   "cell_type": "markdown",
   "metadata": {},
   "source": [
    "From the occupation numbers, it is simple to compute the energy of the state:\n",
    "\n",
    "$$\n",
    "E = \\sum_{i} n_i H_{ii}.\n",
    "$$\n",
    "\n",
    "Write a function to evaluate this for your 1-body Hamiltonian."
   ]
  },
  {
   "cell_type": "code",
   "execution_count": null,
   "metadata": {
    "id": "Kpc8hDMM-3tp"
   },
   "outputs": [],
   "source": [
    "def evaluate_1body_energy_from_occupation_numbers(h1, occupation_numbers):\n",
    "    '''\n",
    "    Evaluates energy expectation value of state.\n",
    "\n",
    "    Args:\n",
    "        h1: 1-body matrix elements of Hamiltonian.\n",
    "        occupation_numbers: List of occupation numbers.\n",
    "\n",
    "    Returns:\n",
    "        energy: Energy expectation value of state.\n",
    "    '''\n",
    "    energy = 0.0\n",
    "    \n",
    "    # My solution\n",
    "    dim = len(occupation_numbers)\n",
    "    for i in range(dim):\n",
    "        energy += occupation_numbers[i] * h1[i, i]\n",
    "    \n",
    "    return energy"
   ]
  },
  {
   "cell_type": "markdown",
   "metadata": {
    "id": "l1ZDfpTf_KIv"
   },
   "source": [
    "At this point, experiment with your choice of occupied states. Choose, for example, $p_\\mathrm{max} = 4$ and consider all possible states of 4 fermions in this basis.\n",
    "\n",
    "1. How many possible states are there?\n",
    "2. Which state(s) has/have the lowest energy? Which one(s) has/have the highest energy?"
   ]
  },
  {
   "cell_type": "code",
   "execution_count": null,
   "metadata": {},
   "outputs": [],
   "source": [
    "# My code\n",
    "pmax = 4\n",
    "n_fermions = 4\n",
    "delta_eps = 1\n",
    "\n",
    "# Build basis\n",
    "basis = make_list_of_single_particle_states(pmax)\n",
    "\n",
    "# Build H1\n",
    "h1 = make_1body_hamiltonian(basis, delta_eps)\n",
    "\n",
    "# Build all possible states of n-fermions\n",
    "from itertools import combinations\n",
    "all_possible_occupied_combinations = list(combinations(basis, n_fermions))\n",
    "print(f\"There are {len(all_possible_occupied_combinations)} possible states.\")\n",
    "# Alternatively, you can get this analytically by evaluating 8 choose 4.\n",
    "\n",
    "# Determine min and max energy state\n",
    "e_min = 0.0\n",
    "state_min = None\n",
    "e_max = 0.0\n",
    "state_max = None\n",
    "for occed_states in all_possible_occupied_combinations:\n",
    "    occs = create_state_occupation_numbers(basis, occed_states)\n",
    "    e = evaluate_1body_energy_from_occupation_numbers(h1, occs)\n",
    "    if state_min is None or e < e_min:\n",
    "        e_min = e\n",
    "        state_min = occed_states\n",
    "    if state_max is None or e > e_max:\n",
    "        e_max = e\n",
    "        state_max = occed_states\n",
    "\n",
    "print(f\"State with minimum energy {e_min}\")\n",
    "print(f\"Occupied sp states: {state_min}\")\n",
    "print(f\"State with maximum energy {e_max}\")\n",
    "print(f\"Occupied sp states: {state_max}\")"
   ]
  },
  {
   "cell_type": "markdown",
   "metadata": {},
   "source": [
    "**My solution**\n",
    "\n",
    "1. There are ${8 \\choose 4} = 70$ possible states.\n",
    "2. The minumum-energy state has the $p = 1, 2$ levels fully filled and has energy $2.0$. The maximum energy state has the $p = 3, 4$ levels fully filled and has energy $10.0$."
   ]
  },
  {
   "cell_type": "markdown",
   "metadata": {
    "id": "aymLpl-3_ZR2"
   },
   "source": [
    "### Problem 4: Two-body interactions\n",
    "\n",
    "So far our 1-body Hamiltonian has only provided us a set of discrete levels, but no actual interactions to explore interesting physics. For this reason, the lowest energy state is easy to construct and solves the problem exactly. Adding two-body interactions allows us to bring in nontrivial physics, which will modify the exact ground-state of the system.\n",
    "\n",
    "The two-body interaction for the pairing Hamiltonian is\n",
    "\n",
    "$$\n",
    "\\begin{aligned}\n",
    "H_2 &= \\frac{1}{4} \\sum_{p \\sigma} \\sum_{q \\sigma'} (-g) a^\\dagger_{p \\sigma} a^\\dagger_{p \\bar{\\sigma}} a_{q \\bar{\\sigma}'} a_{q \\sigma'} \\\\\n",
    "&= \\frac{1}{4} \\sum_{ijkl} H_{ijkl} a^\\dagger_{i} a^\\dagger_{j} a_{l} a_{k}\n",
    "\\end{aligned}\n",
    "$$\n",
    "where $\\bar{\\sigma} = -\\sigma$ (the opposite spin). This interaction is between pairs in the same level, which gives this Hamiltonian its name, the \"pairing\" Hamiltonian.\n",
    "\n",
    "> Note: The normalization of the coupling $g$ is not always the same in the liturature. If you compare to published values, be sure that you are employing the same \"definition\" of $g$.\n",
    "\n",
    "A function that generates the two-body Hamiltonian matrix elements\n",
    "$$\n",
    "H_{ijkl} = \\langle i = (p_i \\sigma_i), j = (p_j \\sigma_j) | H_2 | k = (p_k \\sigma_k), l = (p_l \\sigma_l) \\rangle\n",
    "$$\n",
    "for this Hamiltonian is provided below."
   ]
  },
  {
   "cell_type": "code",
   "execution_count": null,
   "metadata": {
    "id": "NXYdYZEE_njK"
   },
   "outputs": [],
   "source": [
    "def make_2body_hamiltonian_pairing_interaction(basis, g):\n",
    "    '''\n",
    "    Builds 2-body Hamiltonian matrix elements for a given basis and coupling g.\n",
    "\n",
    "    Args:\n",
    "        basis: List of single-particle states (p, sigma).\n",
    "        g: 2-body pairing coupling (g > 0 is attractive).\n",
    "\n",
    "    Returns:\n",
    "        h2: 2-body Hamiltonian matrix elements H_{ijkl} as a 4-dimensional array.\n",
    "    '''\n",
    "    h2 = np.zeros((len(basis), len(basis), len(basis), len(basis)))\n",
    "\n",
    "    for i, state_i in enumerate(basis):\n",
    "        p_i, sigma_i = state_i\n",
    "        for j, state_j in enumerate(basis):\n",
    "            p_j, sigma_j = state_j\n",
    "\n",
    "            # Can skip because of antisymmetry\n",
    "            if i == j:\n",
    "                continue\n",
    "            for k, state_k in enumerate(basis):\n",
    "                p_k, sigma_k = state_k\n",
    "                for l, state_l in enumerate(basis):\n",
    "                    p_l, sigma_l = state_l\n",
    "\n",
    "                    if k == l:\n",
    "                        continue\n",
    "\n",
    "                    # Check that we have pairs in (i, j) and (k, l)\n",
    "                    if (\n",
    "                        p_i == p_j\n",
    "                        and sigma_i != sigma_j\n",
    "                        and p_k == p_l\n",
    "                        and sigma_k != sigma_l\n",
    "                    ):\n",
    "                        # This logic is needed for antisymmetry\n",
    "                        if sigma_i == sigma_k:\n",
    "                            h2[i, j, k, l] = -1 * g\n",
    "                        else:\n",
    "                            h2[i, j, k, l] = 1 * g                    \n",
    "\n",
    "    return h2"
   ]
  },
  {
   "cell_type": "markdown",
   "metadata": {},
   "source": [
    "It is very useful to check the symmetries of the Hamiltonian, Hermiticity and antisymmetry:\n",
    "\n",
    "$$\n",
    "\\begin{aligned}\n",
    "H_{ijkl} &= H_{klij}, \\\\\n",
    "H_{ijkl} &= -H_{jikl} = -H_{ijlk} = H_{jilk}.\n",
    "\\end{aligned}\n",
    "$$\n",
    "\n",
    "Write functions to check these properties."
   ]
  },
  {
   "cell_type": "code",
   "execution_count": null,
   "metadata": {
    "id": "wAs-RParAbSR"
   },
   "outputs": [],
   "source": [
    "def check_2body_operator_is_hermitian(h2):\n",
    "    '''\n",
    "    Checks that a 2-body operator is Hermitian.\n",
    "\n",
    "    Args:\n",
    "        h2: 2-body matrix elements as a 4-dimensional array.\n",
    "\n",
    "    Return:\n",
    "        bool, True if Hermitian, False otherwise.\n",
    "    '''\n",
    "    dim = len(h2)\n",
    "    for i in range(dim):\n",
    "        for j in range(dim):\n",
    "            for k in range(dim):\n",
    "                for l in range(dim):\n",
    "                    if abs(h2[i, j, k, l] - h2[k, l, i, j]) > 1e-10:\n",
    "                        return False\n",
    "\n",
    "    return True\n",
    "\n",
    "\n",
    "def check_2body_matrix_elements_are_antisymmetric(h2):\n",
    "    '''\n",
    "    Checks that 2-body matrix elements are antisymmetric.\n",
    "\n",
    "    Args:\n",
    "        h2: 2-body matrix elements as a 4-dimensional array.\n",
    "\n",
    "    Return:\n",
    "        bool, True if antisymmetric, False otherwise.\n",
    "    '''\n",
    "    dim = len(h2)\n",
    "    for i in range(dim):\n",
    "        for j in range(dim):\n",
    "            for k in range(dim):\n",
    "                for l in range(dim):\n",
    "                    if abs(h2[i, j, k, l] - (-1) * h2[j, i, k, l]) > 1e-10:\n",
    "                        return False\n",
    "                    if abs(h2[i, j, k, l] - (-1) * h2[i, j, l, k]) > 1e-10:\n",
    "                        return False\n",
    "                    if abs(h2[i, j, k, l] -  h2[j, i, l, k]) > 1e-10:\n",
    "                        return False\n",
    "\n",
    "    return True"
   ]
  },
  {
   "cell_type": "code",
   "execution_count": null,
   "metadata": {},
   "outputs": [],
   "source": [
    "# Code to check that h2 is antisymmetric and Hermitian.\n",
    "g = 2.0\n",
    "h2 = make_2body_hamiltonian_pairing_interaction(basis, g)\n",
    "\n",
    "print(f\"H2 is Hermitian: {check_2body_operator_is_hermitian(h2)}\")\n",
    "print(f\"H2 is antisymmetric: {check_2body_matrix_elements_are_antisymmetric(h2)}\")"
   ]
  },
  {
   "cell_type": "markdown",
   "metadata": {},
   "source": [
    "It is still relatively simple to compute the energy of the state based on its occupations when including two-body interactions:\n",
    "\n",
    "$$\n",
    "E = \\sum_{i} n_i H_{ii} + \\frac{1}{2} \\sum_{ij} n_i n_j H_{ijij}.\n",
    "$$\n",
    "\n",
    "Write a function to evaluate this for your 1-body and 2-body Hamiltonian."
   ]
  },
  {
   "cell_type": "code",
   "execution_count": null,
   "metadata": {
    "id": "p7Hone3fA4cS"
   },
   "outputs": [],
   "source": [
    "def evaluate_1and2body_energy_from_occupation_numbers(h1, h2, occupation_numbers):\n",
    "    '''\n",
    "    Evaluates energy expectation value of state.\n",
    "\n",
    "    Args:\n",
    "        h1: 1-body matrix elements of Hamiltonian.\n",
    "        h2: 2-body matrix elements of Hamiltonian.\n",
    "        occupation_numbers: List of occupation numbers.\n",
    "\n",
    "    Returns:\n",
    "        energy: Energy expectation value of state.\n",
    "    '''\n",
    "    energy = 0.0\n",
    "    \n",
    "    # My solution\n",
    "    dim = len(occupation_numbers)\n",
    "    for i in range(dim):\n",
    "        energy += occupation_numbers[i] * h1[i, i]\n",
    "        for j in range(dim):\n",
    "            energy += 0.5 * occupation_numbers[i] * occupation_numbers[j] * h2[i, j, i, j]\n",
    "\n",
    "    return energy"
   ]
  },
  {
   "cell_type": "code",
   "execution_count": null,
   "metadata": {},
   "outputs": [],
   "source": [
    "# Code to check your implementation here.\n",
    "# Use \n",
    "# - pmax = 4\n",
    "# - 4 fermions in the lowest energy configuration\n",
    "# - delta_eps = 1\n",
    "# - g = 2\n",
    "# The value of E should be -2.0. If it is not, check your normalization of g.\n",
    "\n",
    "# My code\n",
    "pmax = 4\n",
    "n_fermions = 4\n",
    "delta_eps = 1\n",
    "g = 2\n",
    "\n",
    "# Build basis\n",
    "basis = make_list_of_single_particle_states(pmax)\n",
    "\n",
    "# Build H1, H2\n",
    "h1 = make_1body_hamiltonian(basis, delta_eps)\n",
    "h2 = make_2body_hamiltonian_pairing_interaction(basis, g)\n",
    "\n",
    "# Make occupations\n",
    "occs = create_state_occupation_numbers(basis, [(1, -1), (1, 1), (2, -1), (2, 1)])\n",
    "\n",
    "e = evaluate_1and2body_energy_from_occupation_numbers(h1, h2, occs)\n",
    "\n",
    "print(f\"E = {e}\")"
   ]
  },
  {
   "cell_type": "markdown",
   "metadata": {
    "id": "8x7sqEm8A_5Y"
   },
   "source": [
    "### Problem 5: Solving the Hartree-Fock equations\n",
    "\n",
    "We will now work on solving the Hartree-Fock (HF) equations for this problem. The central object we are interested in is the Fock matrix:\n",
    "\n",
    "$$\n",
    "F_{ij} = H_{ij} + \\sum_{kl} \\rho_{kl} H_{ikjl}.\n",
    "$$\n",
    "\n",
    "As you can see, this requires the 1-body density matrix for the new basis $| \\bar{i} \\rangle = \\sum_{i} C_{\\bar{i}i} | i \\rangle$. Our starting point will always be $| \\bar{i} \\rangle = | i \\rangle$. Still, we need to construct the 1-body density matrix, which we can do according to\n",
    "$$\n",
    "\\rho_{ij} = \\sum_{\\bar{i}} C_{\\bar{i}i} n_{\\bar{i}} C_{\\bar{i}j}^{*},\n",
    "$$\n",
    "where $n_{\\bar{i}} = n_i$.\n",
    "\n",
    "Write a function to compute the 1-body density matrix given a set of coefficients $C_{\\bar{i}i}$ and occupation numbers $n_{\\bar{i}}$."
   ]
  },
  {
   "cell_type": "code",
   "execution_count": null,
   "metadata": {
    "id": "6xUQ5yZzC8vv"
   },
   "outputs": [],
   "source": [
    "def construct_new_density(coeffs, occupation_numbers):\n",
    "    '''\n",
    "    Constructs 1-body density matrix.\n",
    "\n",
    "    Args:\n",
    "        coeffs: Matrix of coefficients from the starting basis to the new basis.\n",
    "        occupation_numbers: List of occupation numbers for single-particle states in the new basis.\n",
    "        \n",
    "    Returns:\n",
    "        density: 1-body density matrix representing the many-body state in the starting basis.\n",
    "    '''\n",
    "    dim = len(occupation_numbers)\n",
    "    assert coeffs.shape == (dim, dim)\n",
    "    density = np.zeros((dim, dim))\n",
    "\n",
    "    density = coeffs.T @ np.diag(occupation_numbers) @ coeffs\n",
    "\n",
    "    return density"
   ]
  },
  {
   "cell_type": "code",
   "execution_count": null,
   "metadata": {},
   "outputs": [],
   "source": [
    "# Code to check density matrix here.\n",
    "coeffs = np.identity(len(occs))\n",
    "density = construct_new_density(coeffs, occs)\n",
    "print(density)"
   ]
  },
  {
   "cell_type": "markdown",
   "metadata": {},
   "source": [
    "Now write a function to compute the Fock matrix $F$ based on your Hamiltonian (with 1- and 2-body parts) and a density. For now this density is just the density of the lowest-energy state you found above."
   ]
  },
  {
   "cell_type": "code",
   "execution_count": null,
   "metadata": {
    "id": "CmQ45nD6BHuI"
   },
   "outputs": [],
   "source": [
    "def compute_fock_matrix_from_density(h1, h2, density):\n",
    "    '''\n",
    "    Computes Fock matrix from a given density.\n",
    "\n",
    "    Args:\n",
    "        h1: 1-body Hamiltonian matrix elements.\n",
    "        h2: 2-body Hamiltonian matrix elements.\n",
    "        density: 1-body density matrix.\n",
    "\n",
    "    Returns:\n",
    "        f: Fock matrix.\n",
    "    '''\n",
    "    f = np.zeros_like(h1)\n",
    "\n",
    "    f = np.einsum(\"ikjl,kl->ij\", h2, density) + h1\n",
    "\n",
    "    return f"
   ]
  },
  {
   "cell_type": "code",
   "execution_count": null,
   "metadata": {},
   "outputs": [],
   "source": [
    "# Code to check Fock matrix here\n",
    "f = compute_fock_matrix_from_density(h1, h2, density)\n",
    "print(f)"
   ]
  },
  {
   "cell_type": "markdown",
   "metadata": {},
   "source": [
    "As you may have noticed, the Fock matrix is diagonal for the pairing Hamiltonian. We have already solved Hartree-Fock without doing anything! This is because the pairing Hamiltonian does not contain any 2-body interactions that actually modify the \"mean field\" picture. All 2-body interactions involve \"pairs\" so changing the single-particle basis is not beneficial in terms of energy.\n",
    "\n",
    "For the purposes of this exercise session and learning how to solve the HF equations, we add another two-body interaction between same-spin fermions in neighboring levels.\n",
    "\n",
    "$$\n",
    "\\begin{aligned}\n",
    "H_2' &= \\frac{1}{4} \\sum_{p = 1}^{p_\\mathrm{max} - 1} \\sum_{q = 1}^{p_\\mathrm{max} - 1} \\sum_{\\sigma \\sigma'} g_\\mathrm{hop} a^\\dagger_{p \\sigma} a^\\dagger_{p + 1 \\sigma} a_{q + 1 \\sigma'} a_{q \\sigma'}\n",
    "\\end{aligned}\n",
    "$$\n",
    "\n",
    "The function to compute this is provided below:"
   ]
  },
  {
   "cell_type": "code",
   "execution_count": null,
   "metadata": {
    "id": "mrvF8vzeBoog"
   },
   "outputs": [],
   "source": [
    "def eval_2body_hamiltonian_nonpairing_interaction_matrix_element(basis, i, j, k, l, g_hop):\n",
    "    '''\n",
    "    Evaluates single matrix element H'_{ijkl}.\n",
    "    '''\n",
    "    pi, sigi = basis[i]\n",
    "    pj, sigj = basis[j]\n",
    "    pk, sigk = basis[k]\n",
    "    pl, sigl = basis[l]\n",
    "\n",
    "    if abs(pi - pj) != 1:\n",
    "        return 0.0\n",
    "    if abs(pk - pl) != 1:\n",
    "        return 0.0\n",
    "    if sigi != sigj:\n",
    "        return 0.0\n",
    "    if sigk != sigl:\n",
    "        return 0.0\n",
    "\n",
    "    # Account for antisymmetry\n",
    "    as_factor = 1\n",
    "    if sigi != sigk:\n",
    "        as_factor *= -1\n",
    "    if pi > pj:\n",
    "        as_factor *= -1\n",
    "    if pk > pl:\n",
    "        as_factor *= -1\n",
    "    return as_factor * g_hop\n",
    "\n",
    "\n",
    "def make_2body_hamiltonian_nonpairing_interaction(basis, g_hop):\n",
    "    '''\n",
    "    Builds 2-body Hamiltonian matrix elements for the added interaction for a given basis and coupling g_hop.\n",
    "\n",
    "    Args:\n",
    "        basis: List of single-particle states (p, sigma).\n",
    "        g_hop: 2-body nearest neighbor coupling.\n",
    "\n",
    "    Returns:\n",
    "        h2: 2-body Hamiltonian matrix elements H_{ijkl} as a 4-dimensional array.\n",
    "    '''\n",
    "    dim = len(basis)\n",
    "    h2 = np.zeros((dim, dim, dim, dim))\n",
    "\n",
    "    for i in range(dim):\n",
    "        for j in range(dim):\n",
    "            for k in range(dim):\n",
    "                for l in range(dim):\n",
    "                    h2[i, j, k, l] = eval_2body_hamiltonian_nonpairing_interaction_matrix_element(basis, i, j, k, l, g_hop)\n",
    "\n",
    "    return h2"
   ]
  },
  {
   "cell_type": "code",
   "execution_count": null,
   "metadata": {},
   "outputs": [],
   "source": [
    "# Check Hermiticity and antisymmetry here.\n",
    "g_hop = -0.5\n",
    "h2p = make_2body_hamiltonian_nonpairing_interaction(basis, g_hop)\n",
    "\n",
    "print(f\"H2 is Hermitian: {check_2body_operator_is_hermitian(h2p)}\")\n",
    "print(f\"H2 is antisymmetric: {check_2body_matrix_elements_are_antisymmetric(h2p)}\")\n",
    "\n",
    "e = evaluate_1and2body_energy_from_occupation_numbers(h1, h2 + h2p, occs)\n",
    "\n",
    "print(f\"E = {e}\")\n",
    "\n",
    "h2f = h2 + h2p"
   ]
  },
  {
   "cell_type": "markdown",
   "metadata": {},
   "source": [
    "Now we have a Hamiltonian for which the Fock matrix is not immediately and HF equations need to be solved:\n",
    "\n",
    "$$\n",
    "H = H_1 + H_2 + H'_2.\n",
    "$$\n",
    "\n",
    "Check that the Fock matrix is not diagonal."
   ]
  },
  {
   "cell_type": "code",
   "execution_count": null,
   "metadata": {},
   "outputs": [],
   "source": [
    "# Code to show that the Fock matrix for the new Hamiltonian is not diagonal.\n",
    "f = compute_fock_matrix_from_density(h1, h2f, density)\n",
    "print(f)"
   ]
  },
  {
   "cell_type": "markdown",
   "metadata": {},
   "source": [
    "Diagonalizing the Fock matrix will give you the new transformation coefficients for an improved basis.\n",
    "\n",
    "Write a function to diagonalize your Fock matrix (Hint: Refer to [`scipy.linalg.eigh`](https://docs.scipy.org/doc/scipy-1.15.0/reference/generated/scipy.linalg.eigh.html) to do this)."
   ]
  },
  {
   "cell_type": "code",
   "execution_count": null,
   "metadata": {
    "id": "jyEVPJ1oChMn"
   },
   "outputs": [],
   "source": [
    "def diagonalize_fock_matrix(f):\n",
    "    '''\n",
    "    Diagonalizes the Fock matrix and returns the transformation coefficients C_{ibar, i}.$\n",
    "\n",
    "    Args:\n",
    "        f: Fock matrix.\n",
    "\n",
    "    Returns:\n",
    "        coeffs: Matrix of expansion coefficients of new basis in terms of starting basis. Specifically,\n",
    "            coeffs[ibar, :] should be the full eigenvector corresponding to the new state |ibar> = sum_i C_{ibar, i} |i>.\n",
    "    '''\n",
    "    coeffs = np.zeros_like(f)\n",
    "\n",
    "    _, coeffs = scipy.linalg.eigh(f)\n",
    "\n",
    "    # Scipy returns our coefficients in a different format (with eigenvectors as columns, not rows).\n",
    "    coeffs = coeffs.T\n",
    "\n",
    "    return coeffs"
   ]
  },
  {
   "cell_type": "markdown",
   "metadata": {
    "id": "XiuIOaoWDUBM"
   },
   "source": [
    "The coefficients you get from this diagonalization can be used to construct a new density matrix. We now want to be sure that this basis is actually better: \"better\" in the sense that the energy is lower than before. For that we need to evaluate the energy expectation value using the density, not the occupation numbers:\n",
    "\n",
    "$$\n",
    "E = \\sum_{ij} \\rho_{ij} H_{ij} + \\frac{1}{2} \\sum_{ijkl} \\rho_{ij} \\rho_{kl} H_{ikjl}.\n",
    "$$\n",
    "\n",
    "Write a function to evaluate the energy using the density matrix."
   ]
  },
  {
   "cell_type": "code",
   "execution_count": null,
   "metadata": {
    "id": "B1lEWk04Djqu"
   },
   "outputs": [],
   "source": [
    "def evaluate_1and2body_energy_from_density(h1, h2, density):\n",
    "    '''\n",
    "    Evaluates energy expectation value of state.\n",
    "\n",
    "    Args:\n",
    "        h1: 1-body matrix elements of Hamiltonian.\n",
    "        h2: 2-body matrix elements of Hamiltonian.\n",
    "        density: Density matrix of state.\n",
    "\n",
    "    Returns:\n",
    "        energy: Energy expectation value of state.\n",
    "    '''\n",
    "    energy = 0.0\n",
    "\n",
    "    rho = density\n",
    "\n",
    "    energy += np.einsum(\"ij,ij\", rho, h1)\n",
    "    energy += 0.5 * np.einsum(\"ij,kl,ikjl\", rho, rho, h2)\n",
    "\n",
    "    return energy"
   ]
  },
  {
   "cell_type": "markdown",
   "metadata": {},
   "source": [
    "Briefly show that the density from the new basis you get from diagonalizing the Fock matrix has a lower energy than the starting density."
   ]
  },
  {
   "cell_type": "code",
   "execution_count": null,
   "metadata": {},
   "outputs": [],
   "source": [
    "# My solution\n",
    "new_coeffs = diagonalize_fock_matrix(f)\n",
    "new_density = construct_new_density(new_coeffs, occs)\n",
    "new_e = evaluate_1and2body_energy_from_density(h1, h2f, new_density)\n",
    "print(new_e)"
   ]
  },
  {
   "cell_type": "markdown",
   "metadata": {
    "id": "cK26fVI9Dwe8"
   },
   "source": [
    "To solve the Hartree-Fock equations, we do these steps *iteratively* ($n$ is the iteration number):\n",
    "\n",
    "1. Construct density matrix $\\rho^{(n)}$ from coefficients $C^{(n)}_{\\bar{i}i}$.\n",
    "2. Evaluate energy expectation value $E^{(n)}$.\n",
    "3. Build Fock operator $F^{(n)}$.\n",
    "4. Diagonalize Fock operator to get new coefficients $C^{(n + 1)}_{\\bar{i}i}$.\n",
    "\n",
    "This iterative procedure terminates when our final basis is no longer improving in each iteration, so $E^{(n)} \\approx E^{(n - 1)}$.\n",
    "\n",
    "Write a function to put all of these ingredients together to solve Hartree-Fock."
   ]
  },
  {
   "cell_type": "code",
   "execution_count": null,
   "metadata": {
    "id": "0QTaz8XKD6UI"
   },
   "outputs": [],
   "source": [
    "def solve_hartree_fock_iteratively(h1, h2, occupation_numbers, verbose=True):\n",
    "    '''\n",
    "    Solve the Hartree-Fock equations for a given Hamiltonian and occupation numbers.\n",
    "\n",
    "    Args:\n",
    "        h1: 1-body matrix elements of Hamiltonian.\n",
    "        h2: 2-body matrix elements of Hamiltonian.\n",
    "        occupation_numbers: List of occupation numbers.\n",
    "\n",
    "    Returns:\n",
    "        e: HF energy.\n",
    "        density: HF density matrix.\n",
    "        coeffs: HF basis coefficients.\n",
    "        n_iters: Number of iterations required to reach convergence.\n",
    "    '''\n",
    "    dim = len(occupation_numbers)\n",
    "    assert h1.shape == (dim, dim)\n",
    "    assert h2.shape == (dim, dim, dim, dim)\n",
    "\n",
    "    e = 0.0\n",
    "    rho = np.zeros((dim, dim))\n",
    "    coeffs = np.zeros((dim, dim))\n",
    "    n_iters = 0\n",
    "\n",
    "    # My solution\n",
    "    max_iters = 500\n",
    "    energy_convergence_criterion = 1e-4\n",
    "\n",
    "    occs = occupation_numbers\n",
    "\n",
    "    coeffs = np.identity(dim)\n",
    "    rho = construct_new_density(coeffs, occs)\n",
    "    e_prev = evaluate_1and2body_energy_from_density(h1, h2, rho)\n",
    "\n",
    "    for i in range(max_iters):\n",
    "\n",
    "        f = compute_fock_matrix_from_density(h1, h2, rho)\n",
    "        coeffs = diagonalize_fock_matrix(f)\n",
    "        rho = construct_new_density(coeffs, occs)\n",
    "\n",
    "        e = evaluate_1and2body_energy_from_density(h1, h2, rho)\n",
    "\n",
    "        if abs(e - e_prev) < energy_convergence_criterion:\n",
    "            break\n",
    "        else:\n",
    "            if verbose:\n",
    "                print(f\"HF iter {n_iters}: E_{n_iters} = {e_prev} -> E_{n_iters + 1} = {e}\")\n",
    "            n_iters += 1\n",
    "            e_prev = e\n",
    "            \n",
    "\n",
    "    return e, rho, coeffs, n_iters"
   ]
  },
  {
   "cell_type": "code",
   "execution_count": null,
   "metadata": {},
   "outputs": [],
   "source": [
    "# Code to check HF result for specific values of couplings.\n",
    "e, rho, coeffs, n_iters = solve_hartree_fock_iteratively(h1, h2f, occs)\n",
    "\n",
    "print(f\"HF solved in {n_iters} iterations, E_HF = {e}\")\n",
    "\n",
    "print(coeffs)"
   ]
  },
  {
   "cell_type": "markdown",
   "metadata": {},
   "source": [
    "Congratulations, you have solved Hartree-Fock!\n",
    "\n",
    "Explore how the energy depends on $g / \\Delta \\epsilon$ and $g_\\mathrm{hop} / \\Delta \\epsilon$. How does the number of iterations depend on $g$, $g_\\mathrm{hop}$? Do you have problems with convergence in any cases?"
   ]
  },
  {
   "cell_type": "code",
   "execution_count": null,
   "metadata": {},
   "outputs": [],
   "source": [
    "# My code\n",
    "pmax = 4\n",
    "n_fermions = 4\n",
    "delta_eps = 1\n",
    "\n",
    "# Build basis\n",
    "basis = make_list_of_single_particle_states(pmax)\n",
    "\n",
    "# Build H1\n",
    "h1 = make_1body_hamiltonian(basis, delta_eps)\n",
    "\n",
    "# Make occupations\n",
    "occs = create_state_occupation_numbers(basis, [(1, -1), (1, 1), (2, -1), (2, 1)])\n",
    "\n",
    "# Fix g_hop to -0.5\n",
    "g_hop = -0.5\n",
    "h2p = make_2body_hamiltonian_nonpairing_interaction(basis, g_hop)\n",
    "\n",
    "# Vary g in somewhat reasonable range\n",
    "g_vals = np.arange(-5.0, 5.0, 0.1)\n",
    "e_vals_g = []\n",
    "n_iters_g = []\n",
    "for g in g_vals:\n",
    "    h2 = make_2body_hamiltonian_pairing_interaction(basis, g)\n",
    "\n",
    "    h2f = h2p + h2\n",
    "    e, rho, coeffs, n_iters = solve_hartree_fock_iteratively(h1, h2f, occs, verbose=False)\n",
    "\n",
    "    e_vals_g.append(e)\n",
    "    n_iters_g.append(n_iters)\n",
    "\n",
    "# Fix g to 2.0\n",
    "g = 2.0\n",
    "h2 = make_2body_hamiltonian_pairing_interaction(basis, g)\n",
    "\n",
    "# Vary g_hop in somewhat reasonable range\n",
    "g_hop_vals = np.arange(-5.0, 5.0, 0.1)\n",
    "e_vals_g_hop = []\n",
    "n_iters_g_hop = []\n",
    "for g_hop in g_hop_vals:\n",
    "    h2p = make_2body_hamiltonian_nonpairing_interaction(basis, g_hop)\n",
    "\n",
    "    h2f = h2p + h2\n",
    "    e, rho, coeffs, n_iters = solve_hartree_fock_iteratively(h1, h2f, occs, verbose=False)\n",
    "\n",
    "    e_vals_g_hop.append(e)\n",
    "    n_iters_g_hop.append(n_iters)"
   ]
  },
  {
   "cell_type": "code",
   "execution_count": null,
   "metadata": {},
   "outputs": [],
   "source": [
    "plt.plot(g_vals, e_vals_g)"
   ]
  },
  {
   "cell_type": "code",
   "execution_count": null,
   "metadata": {},
   "outputs": [],
   "source": [
    "plt.plot(g_vals, n_iters_g)"
   ]
  },
  {
   "cell_type": "markdown",
   "metadata": {},
   "source": [
    "**We see that for repulsive values of $g$ ($g < 0$) we quickly run into convergence issues.**\n",
    "\n",
    "This can be resolved by having a more sophisticated update scheme for the density matrix, for example simple mixing:\n",
    "\n",
    "$$\n",
    "\\rho = (1 - \\alpha) \\rho^{(i-1)} + \\alpha \\rho^{(i)}.\n",
    "$$"
   ]
  },
  {
   "cell_type": "code",
   "execution_count": null,
   "metadata": {},
   "outputs": [],
   "source": [
    "plt.plot(g_hop_vals, e_vals_g_hop)"
   ]
  },
  {
   "cell_type": "code",
   "execution_count": null,
   "metadata": {},
   "outputs": [],
   "source": [
    "plt.plot(g_hop_vals, n_iters_g_hop)"
   ]
  },
  {
   "cell_type": "code",
   "execution_count": null,
   "metadata": {},
   "outputs": [],
   "source": []
  }
 ],
 "metadata": {
  "colab": {
   "provenance": [],
   "toc_visible": true
  },
  "kernelspec": {
   "display_name": "Python 3 (ipykernel)",
   "language": "python",
   "name": "python3"
  },
  "language_info": {
   "codemirror_mode": {
    "name": "ipython",
    "version": 3
   },
   "file_extension": ".py",
   "mimetype": "text/x-python",
   "name": "python",
   "nbconvert_exporter": "python",
   "pygments_lexer": "ipython3",
   "version": "3.12.4"
  }
 },
 "nbformat": 4,
 "nbformat_minor": 4
}
