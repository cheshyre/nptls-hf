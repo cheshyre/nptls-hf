{
 "cells": [
  {
   "cell_type": "markdown",
   "id": "0867cac2-c1ec-41d6-a7d9-2b87520d5098",
   "metadata": {},
   "source": [
    "# Exercise 0: Brief introduction to Python\n",
    "\n",
    "Python is a well-established and (relatively) easy to learn programming language. It is broadly applied also for general purpose programming, but it also has many well established libraries and tools for numerical computing.\n",
    "\n",
    "We start by import the relevant packages:\n",
    "- `numpy`: to manipulate numerical data, matrices, arrays, and much more (commonly abbreviated `np`)\n",
    "- `scipy`: for advanced functions and operations\n",
    "- `matplotlib`: for plotting utilities (with `matplotlib.pyplot` commonly abbreviated as `plt`)"
   ]
  },
  {
   "cell_type": "code",
   "execution_count": null,
   "id": "de4aba78-5fba-49be-ae58-7f93d9a7c71f",
   "metadata": {},
   "outputs": [],
   "source": [
    "import numpy as np\n",
    "import scipy\n",
    "import matplotlib.pyplot as plt"
   ]
  },
  {
   "cell_type": "markdown",
   "id": "12956759-ac32-464f-ba94-ca3d0b2e4857",
   "metadata": {},
   "source": [
    "## Defining variables and matrices\n",
    "\n",
    "We will typically store relevant values (matrix dimensions, matrices, function values) in variables. This can be done in Python as follows."
   ]
  },
  {
   "cell_type": "code",
   "execution_count": null,
   "id": "de019c2d-def5-4673-961d-278d2752b743",
   "metadata": {},
   "outputs": [],
   "source": [
    "# This is a comment, it is not evaluated and can be used to add \"documentation\" to the code you write so you understand it later\n",
    "\n",
    "# The dimension of our matrix\n",
    "dim = 2\n",
    "\n",
    "# The x Pauli matrix (not yet initialized)\n",
    "pauli_x = np.zeros((dim, dim))\n",
    "\n",
    "print(f\"Dim = {dim}\")\n",
    "print(\"Pauli x matrix (not yet initialized):\")\n",
    "print(pauli_x)"
   ]
  },
  {
   "cell_type": "markdown",
   "id": "892fe1db-f64a-42e4-b2cc-59e166c139ba",
   "metadata": {},
   "source": [
    "Above, we made use of the [`numpy` function `np.zeros`](https://numpy.org/doc/stable/reference/generated/numpy.zeros.html) to create an empty matrix with dimensions `dim`x`dim` (click on the link to visit the documentation of the function)."
   ]
  },
  {
   "cell_type": "markdown",
   "id": "8216d9d6-58c6-4b2c-8ba6-9881a0280a83",
   "metadata": {},
   "source": [
    "# Modifying variables\n",
    "\n",
    "Our variables can also by modified by doing another assignment, which we can use to set the matrix elements of the Pauli matrix."
   ]
  },
  {
   "cell_type": "code",
   "execution_count": null,
   "id": "651d5a25-476e-48ab-81cf-7995bc21ece7",
   "metadata": {},
   "outputs": [],
   "source": [
    "pauli_x[1, 0] = 1\n",
    "print(pauli_x)\n",
    "pauli_x[0, 1] = 1\n",
    "print(pauli_x)\n",
    "\n",
    "# Fully initialized."
   ]
  },
  {
   "cell_type": "markdown",
   "id": "c11c1ea4-ae75-4084-8118-58f888458493",
   "metadata": {},
   "source": [
    "Standard arithmetic operations are also supported, as are many typical operations for matrices"
   ]
  },
  {
   "cell_type": "code",
   "execution_count": null,
   "id": "30349020-d278-495d-ac1c-8720126eb5c9",
   "metadata": {},
   "outputs": [],
   "source": [
    "# Operations on numbers\n",
    "a = 3\n",
    "b = 5\n",
    "c = a + b\n",
    "d = a - b\n",
    "e = a * b\n",
    "f = a / b\n",
    "print(f\"a + b = {c}\")\n",
    "print(f\"a - b = {d}\")\n",
    "print(f\"a * b = {e}\")\n",
    "print(f\"a / b = {f}\")\n",
    "\n",
    "# Operations on matrices\n",
    "pauli_z = np.diag([1.0, -1.0])\n",
    "x_z = pauli_x @ pauli_x\n",
    "print(\"Matrix multiply of Pauli x and z matrices:\")\n",
    "print(x_z)\n",
    "negative_x_z = -1 * x_z\n",
    "print(negative_x_z)"
   ]
  },
  {
   "cell_type": "markdown",
   "id": "a86d15ea-c755-403c-88a5-c5a3739f84b1",
   "metadata": {},
   "source": [
    "## Diagonalizing matrices\n",
    "\n",
    "One operation that is common in computational physics is diagonalizing matrices. This is provided by the [`scipy.linalg.eigh` function](https://docs.scipy.org/doc/scipy-1.15.0/reference/generated/scipy.linalg.eigh.html) (where the \"h\" in `eigh` means that we ensure that the input matrix is Hermitian). We can use this to diagonalize the Pauli matrices."
   ]
  },
  {
   "cell_type": "code",
   "execution_count": null,
   "id": "b5569025-ba83-488b-a175-4fe9ca367e2a",
   "metadata": {},
   "outputs": [],
   "source": [
    "x_eigen_values, x_eigen_vectors_transpose = scipy.linalg.eigh(pauli_x)\n",
    "\n",
    "print(\"Eigenvalue and vector at index 0:\")\n",
    "print(f\"Eigenvalue = {x_eigen_values[0]}\")\n",
    "print(f\"Eigenvector = {x_eigen_vectors_transpose[:, 0].T}\")\n",
    "print(\"Eigenvalue and vector at index 1:\")\n",
    "print(f\"Eigenvalue = {x_eigen_values[1]}\")\n",
    "print(f\"Eigenvector = {x_eigen_vectors_transpose[:, 1].T}\")\n",
    "\n",
    "# Note that the eigenvectors are return as columns, not rows, of the \"x_eigen_vectors_transpose\"\n",
    "print(x_eigen_vectors_transpose)"
   ]
  },
  {
   "cell_type": "markdown",
   "id": "79f53bd7-59db-4ca6-9a8f-fc78f6f4b677",
   "metadata": {},
   "source": [
    "## Loops\n",
    "\n",
    "As you can see above, we have the same code for index 0 and 1. If we only have two indices, this duplication is fine, but loops allow us to do the same code for many indices in a row (e.g., 1, ... 1000000).\n",
    "\n",
    "The standard loop in Python is the for loop:"
   ]
  },
  {
   "cell_type": "code",
   "execution_count": null,
   "id": "9f216ae7-ae4a-4d58-ad25-d975238431c5",
   "metadata": {},
   "outputs": [],
   "source": [
    "for i in range(dim):\n",
    "    print(f\"Index = {i}\")\n",
    "    print(f\"Eigenvalue and vector at index {i}:\")\n",
    "    print(f\"Eigenvalue = {x_eigen_values[i]}\")\n",
    "    print(f\"Eigenvector = {x_eigen_vectors_transpose[:, i].T}\")"
   ]
  },
  {
   "cell_type": "markdown",
   "id": "1e9cf945-6ef0-4fc0-9b6f-753d22a5c386",
   "metadata": {},
   "source": [
    "The `range(end)` function will generate the values `i` from `0` to `end - 1` in order, allowing one to easily work over many indices.\n",
    "\n",
    "It is often the case that one wants to do a loop, but may want to exit early if some condition has been met (for example, a Taylor series has converged to the desired numerical precision). This can be accomplished via the `break` keyword, which exits a loop early. As an example, if we wanted to find the smallest common multiple of 2, 3, 4, and 6, we could write the following code:"
   ]
  },
  {
   "cell_type": "code",
   "execution_count": null,
   "id": "2c078080-b594-41f8-a8dc-be333535db52",
   "metadata": {},
   "outputs": [],
   "source": [
    "worst_case = 2 * 3 * 4 * 6\n",
    "\n",
    "# Loop from 1 to worst_case\n",
    "for i in range(1, worst_case + 1):\n",
    "    if (i % 2 == 0) and (i % 3 == 0) and (i % 4 == 0) and (i % 6 == 0):\n",
    "        print(f\"Found common multiple of 2, 3, 4, 6 at {i}\")"
   ]
  },
  {
   "cell_type": "markdown",
   "id": "2a7698ed-a959-40e1-b176-d29429fb706a",
   "metadata": {},
   "source": [
    "This code will search for all values up to the worst case of 144 = 2 * 3 * 4 * 6. We can just break after finding the first case, because then we have achieved our goal."
   ]
  },
  {
   "cell_type": "code",
   "execution_count": null,
   "id": "e4845a90-39cf-4a32-9bb0-021815c430ea",
   "metadata": {},
   "outputs": [],
   "source": [
    "worst_case = 2 * 3 * 4 * 6\n",
    "\n",
    "# Loop from 1 to worst_case\n",
    "for i in range(1, worst_case + 1):\n",
    "    if (i % 2 == 0) and (i % 3 == 0) and (i % 4 == 0) and (i % 6 == 0):\n",
    "        print(f\"Found least common multiple of 2, 3, 4, 6 at {i}\")\n",
    "        break"
   ]
  },
  {
   "cell_type": "markdown",
   "id": "9da1653a-47c9-4fb9-9497-a311dcaf7ec7",
   "metadata": {},
   "source": [
    "## Defining functions\n",
    "\n",
    "A principle of good programming is defining functions with clear inputs and outputs for \"logical operations.\" This has two benefits:\n",
    "\n",
    "1. Functions can be named according to what they do, and this makes the bigger code around the function more readable. As an example, consider:\n",
    "```Python\n",
    "# Option 1\n",
    "a = np.zeros((10))\n",
    "\n",
    "# Option 2\n",
    "b = np.array([0.0] * 10)\n",
    "```\n",
    "    Both options yield the same result, but option 1 is much clearer that you are generating an array of 10 zeros.\n",
    "\n",
    "2. Functions can be reused in many different places, which means you have to write less code and are less likely to make mistakes.\n",
    "\n",
    "\n",
    "Let us start by defining a factorial function `factorial(n)`, which takes $n$ as input and will give us $n!$ as output."
   ]
  },
  {
   "cell_type": "code",
   "execution_count": null,
   "id": "cae4775e-eca7-4ad9-b46b-25b30501f10b",
   "metadata": {},
   "outputs": [],
   "source": [
    "def factorial(n):\n",
    "    result = 1\n",
    "    # Loop from 1 to n\n",
    "    for n in range(1, n + 1):\n",
    "        result *= n\n",
    "    return result\n",
    "\n",
    "for i in range(10):\n",
    "    print(f\"factorial({i}) = {factorial(i)}\")"
   ]
  },
  {
   "cell_type": "markdown",
   "id": "f8ab3d4b-d07a-4531-8ebd-797d6843d848",
   "metadata": {},
   "source": [
    "We can put all of this together to define a function that evaluates the Taylor series of sine of x up to a max number of terms and to a given desired precision:"
   ]
  },
  {
   "cell_type": "code",
   "execution_count": null,
   "id": "1da19661-ed2b-45ea-984f-02ebac0ee559",
   "metadata": {},
   "outputs": [],
   "source": [
    "def sin_taylor_series(x, max_terms=50, precision=1e-6):\n",
    "    # This evaluates the value of sin of x using a Taylor series\n",
    "    # It includes the terms i = 0, ..., max_terms - 1 (default: max_terms = 50)\n",
    "    # And it will stop early once the current term is smaller than precision (default: precision = 0.000001 = 1e-6)\n",
    "\n",
    "    result = 0.0\n",
    "\n",
    "    for i in range(max_terms):\n",
    "        if i % 2 == 0:\n",
    "            result += 0\n",
    "        else:\n",
    "            term = np.real(1j ** (i - 1)) * (x ** i) / factorial(i)\n",
    "            result += term\n",
    "            if np.abs(term) < precision:\n",
    "                break\n",
    "\n",
    "    return result\n",
    "\n",
    "val = 1.0\n",
    "print(f\"Sin({val}) = {np.sin(val)}\")\n",
    "for max_terms in range(1, 20, 2):\n",
    "    print(f\"{max_terms} terms = {sin_taylor_series(val, max_terms=max_terms)}\")"
   ]
  },
  {
   "cell_type": "markdown",
   "id": "63a2be40-6e6d-4ea0-aefb-a14b1ea77d54",
   "metadata": {},
   "source": [
    "## Plot\n",
    "\n",
    "We can also visualize the performance of this function by plotting the results."
   ]
  },
  {
   "cell_type": "code",
   "execution_count": null,
   "id": "023160e5-71c9-4b1e-ab34-3962d01c01df",
   "metadata": {},
   "outputs": [],
   "source": [
    "x_vals = np.arange(-10, 10, 0.3)\n",
    "x_vals_dense = np.arange(-10, 10, 0.01)\n",
    "exact = np.sin(x_vals)\n",
    "\n",
    "plt.plot(x_vals, exact, \"x\", linewidth=3, label=\"Exact\")\n",
    "\n",
    "for max_terms in [2, 4, 10, 40]:\n",
    "    approx = [sin_taylor_series(x, max_terms) for x in x_vals_dense]\n",
    "    plt.plot(x_vals_dense, approx, \"-\", label=f\"{max_terms} terms\")\n",
    "\n",
    "plt.legend(loc=\"best\")\n",
    "plt.ylim(-2.5, 2.5)\n",
    "plt.xlim(-10, 10)\n",
    "plt.xlabel(\"x\")\n",
    "plt.ylabel(\"sin(x)\")\n",
    "plt.show()"
   ]
  },
  {
   "cell_type": "markdown",
   "id": "7c637dfb-e314-4416-acb1-b995930fac0b",
   "metadata": {},
   "source": [
    "Hopefully this has introduced you to (or reminded you of) the basic Python tools you will need for these exercises."
   ]
  }
 ],
 "metadata": {
  "kernelspec": {
   "display_name": "Python 3 (ipykernel)",
   "language": "python",
   "name": "python3"
  },
  "language_info": {
   "codemirror_mode": {
    "name": "ipython",
    "version": 3
   },
   "file_extension": ".py",
   "mimetype": "text/x-python",
   "name": "python",
   "nbconvert_exporter": "python",
   "pygments_lexer": "ipython3",
   "version": "3.12.4"
  }
 },
 "nbformat": 4,
 "nbformat_minor": 5
}
